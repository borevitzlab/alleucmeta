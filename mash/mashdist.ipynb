{
 "cells": [
  {
   "cell_type": "code",
   "execution_count": 1,
   "id": "6185e677-046b-4202-b672-90b3485c35fa",
   "metadata": {},
   "outputs": [
    {
     "name": "stderr",
     "output_type": "stream",
     "text": [
      "── \u001b[1mAttaching core tidyverse packages\u001b[22m ──────────────────────────────────────────────────────────────────────────────────────────────────────────────────── tidyverse 2.0.0 ──\n",
      "\u001b[32m✔\u001b[39m \u001b[34mdplyr    \u001b[39m 1.1.2     \u001b[32m✔\u001b[39m \u001b[34mreadr    \u001b[39m 2.1.4\n",
      "\u001b[32m✔\u001b[39m \u001b[34mforcats  \u001b[39m 1.0.0     \u001b[32m✔\u001b[39m \u001b[34mstringr  \u001b[39m 1.5.0\n",
      "\u001b[32m✔\u001b[39m \u001b[34mggplot2  \u001b[39m 3.4.2     \u001b[32m✔\u001b[39m \u001b[34mtibble   \u001b[39m 3.2.1\n",
      "\u001b[32m✔\u001b[39m \u001b[34mlubridate\u001b[39m 1.9.2     \u001b[32m✔\u001b[39m \u001b[34mtidyr    \u001b[39m 1.3.0\n",
      "\u001b[32m✔\u001b[39m \u001b[34mpurrr    \u001b[39m 1.0.1     \n",
      "── \u001b[1mConflicts\u001b[22m ────────────────────────────────────────────────────────────────────────────────────────────────────────────────────────────────────── tidyverse_conflicts() ──\n",
      "\u001b[31m✖\u001b[39m \u001b[34mdplyr\u001b[39m::\u001b[32mfilter()\u001b[39m masks \u001b[34mstats\u001b[39m::filter()\n",
      "\u001b[31m✖\u001b[39m \u001b[34mdplyr\u001b[39m::\u001b[32mlag()\u001b[39m    masks \u001b[34mstats\u001b[39m::lag()\n",
      "\u001b[36mℹ\u001b[39m Use the conflicted package (\u001b[3m\u001b[34m<http://conflicted.r-lib.org/>\u001b[39m\u001b[23m) to force all conflicts to become errors\n"
     ]
    }
   ],
   "source": [
    "library(tidyverse)"
   ]
  },
  {
   "cell_type": "code",
   "execution_count": 2,
   "id": "274d178a-47a3-455b-b41f-435a3b491303",
   "metadata": {},
   "outputs": [
    {
     "name": "stderr",
     "output_type": "stream",
     "text": [
      "\u001b[1mRows: \u001b[22m\u001b[34m827541\u001b[39m \u001b[1mColumns: \u001b[22m\u001b[34m5\u001b[39m\n",
      "\u001b[36m──\u001b[39m \u001b[1mColumn specification\u001b[22m \u001b[36m────────────────────────────────────────────────────────────────────────────────────────────────────────────────────────────────────────────────────\u001b[39m\n",
      "\u001b[1mDelimiter:\u001b[22m \"\\t\"\n",
      "\u001b[31mchr\u001b[39m (3): fq1, fq2, shared\n",
      "\u001b[32mdbl\u001b[39m (2): dist, pval\n",
      "\n",
      "\u001b[36mℹ\u001b[39m Use `spec()` to retrieve the full column specification for this data.\n",
      "\u001b[36mℹ\u001b[39m Specify the column types or set `show_col_types = FALSE` to quiet this message.\n"
     ]
    }
   ],
   "source": [
    "mdist = read_tsv(\"distances.tsv.xz\", col_names = c(\"fq1\", \"fq2\", \"dist\", \"pval\", \"shared\"))"
   ]
  },
  {
   "cell_type": "code",
   "execution_count": 3,
   "id": "75635fa0-5961-4cac-8749-5b30130329da",
   "metadata": {},
   "outputs": [
    {
     "name": "stderr",
     "output_type": "stream",
     "text": [
      "\u001b[1mRows: \u001b[22m\u001b[34m1159\u001b[39m \u001b[1mColumns: \u001b[22m\u001b[34m8\u001b[39m\n",
      "\u001b[36m──\u001b[39m \u001b[1mColumn specification\u001b[22m \u001b[36m────────────────────────────────────────────────────────────────────────────────────────────────────────────────────────────────────────────────────\u001b[39m\n",
      "\u001b[1mDelimiter:\u001b[22m \",\"\n",
      "\u001b[31mchr\u001b[39m (8): Binomial, Genus, Subgenus, Section, Series, Subseries, Species, Sub...\n",
      "\n",
      "\u001b[36mℹ\u001b[39m Use `spec()` to retrieve the full column specification for this data.\n",
      "\u001b[36mℹ\u001b[39m Specify the column types or set `show_col_types = FALSE` to quiet this message.\n"
     ]
    }
   ],
   "source": [
    "dntax = read_csv(\"https://github.com/borevitzlab/cca-eucs/raw/master/metadata/originals/DNTaxonomyCleaned.csv\")"
   ]
  },
  {
   "cell_type": "code",
   "execution_count": 110,
   "id": "cc93e0a1-14ab-4be7-a120-93d915766b4f",
   "metadata": {},
   "outputs": [
    {
     "name": "stderr",
     "output_type": "stream",
     "text": [
      "\u001b[1mRows: \u001b[22m\u001b[34m3836\u001b[39m \u001b[1mColumns: \u001b[22m\u001b[34m15\u001b[39m\n",
      "\u001b[36m──\u001b[39m \u001b[1mColumn specification\u001b[22m \u001b[36m────────────────────────────────────────────────────────────────────────────────────────────────────────────────────────────────────────────────────\u001b[39m\n",
      "\u001b[1mDelimiter:\u001b[22m \"\\t\"\n",
      "\u001b[31mchr\u001b[39m  (10): sample, project, species, datum, location, collectors, population...\n",
      "\u001b[32mdbl\u001b[39m   (4): latitude, longitude, elevation, percent_dieback\n",
      "\u001b[34mdate\u001b[39m  (1): date\n",
      "\n",
      "\u001b[36mℹ\u001b[39m Use `spec()` to retrieve the full column specification for this data.\n",
      "\u001b[36mℹ\u001b[39m Specify the column types or set `show_col_types = FALSE` to quiet this message.\n"
     ]
    }
   ],
   "source": [
    "spp = read_tsv(\"../alleuc_sample_metadata.tsv\") %>%\n",
    "    select(sample, species) %>%\n",
    "    left_join(\n",
    "        dntax %>% select(Binomial, Section),\n",
    "        by=join_by(species==Binomial)\n",
    "    ) %>%\n",
    "    mutate(species2=sub(\" subsp.*\", \"\", species))"
   ]
  },
  {
   "cell_type": "code",
   "execution_count": 111,
   "id": "a5ea3298-6ed7-462c-95aa-e7bfee24127e",
   "metadata": {},
   "outputs": [
    {
     "name": "stdout",
     "output_type": "stream",
     "text": [
      "tibble [3,836 × 4] (S3: tbl_df/tbl/data.frame)\n",
      " $ sample  : chr [1:3836] \"Acacia_acuminata_ANBG\" \"Acacia_dealbata\" \"Acacia_melanoxylon\" \"FDK10\" ...\n",
      " $ species : chr [1:3836] NA NA NA \"Eucalyptus microcarpa\" ...\n",
      " $ Section : chr [1:3836] NA NA NA \"Adnataria\" ...\n",
      " $ species2: chr [1:3836] NA NA NA \"Eucalyptus microcarpa\" ...\n"
     ]
    }
   ],
   "source": [
    "str(spp)"
   ]
  },
  {
   "cell_type": "code",
   "execution_count": 112,
   "id": "e3ec5ca2-434c-497e-a627-cd93e905956f",
   "metadata": {},
   "outputs": [
    {
     "name": "stderr",
     "output_type": "stream",
     "text": [
      "\u001b[1mRows: \u001b[22m\u001b[34m1444\u001b[39m \u001b[1mColumns: \u001b[22m\u001b[34m5\u001b[39m\n",
      "\u001b[36m──\u001b[39m \u001b[1mColumn specification\u001b[22m \u001b[36m────────────────────────────────────────────────────────────────────────────────────────────────────────────────────────────────────────────────────\u001b[39m\n",
      "\u001b[1mDelimiter:\u001b[22m \"\\t\"\n",
      "\u001b[31mchr\u001b[39m (5): library, sample, read1, read2, interleaved\n",
      "\n",
      "\u001b[36mℹ\u001b[39m Use `spec()` to retrieve the full column specification for this data.\n",
      "\u001b[36mℹ\u001b[39m Specify the column types or set `show_col_types = FALSE` to quiet this message.\n",
      "Warning message in left_join(., spp, by = join_by(sample)):\n",
      "“\u001b[1m\u001b[22mDetected an unexpected many-to-many relationship between `x` and `y`.\n",
      "\u001b[36mℹ\u001b[39m Row 6 of `x` matches multiple rows in `y`.\n",
      "\u001b[36mℹ\u001b[39m Row 176 of `y` matches multiple rows in `x`.\n",
      "\u001b[36mℹ\u001b[39m If a many-to-many relationship is expected, set `relationship = \"many-to-many\"` to silence this warning.”\n"
     ]
    }
   ],
   "source": [
    "meta = read_tsv(\"dieback_only.tsv\")\n",
    "meta = meta %>% \n",
    "    filter(\n",
    "        !grepl(\"^NCT\", sample),\n",
    "        !if_all(read1:interleaved, is.na),\n",
    "    ) %>%\n",
    "    select(sample) %>%\n",
    "    left_join(spp, by=join_by(sample))"
   ]
  },
  {
   "cell_type": "code",
   "execution_count": 113,
   "id": "a3619017-58a4-462a-8b30-fd382e23ef81",
   "metadata": {},
   "outputs": [],
   "source": [
    "fdist = mdist %>%\n",
    "    transmute(\n",
    "        samp1 = sub(\"tmp/(.+).fastq.gz\", \"\\\\1\", fq1),\n",
    "        samp2 = sub(\"tmp/(.+).fastq.gz\", \"\\\\1\", fq2),\n",
    "        dist=dist,\n",
    "    )"
   ]
  },
  {
   "cell_type": "code",
   "execution_count": 168,
   "id": "6055e3f6-f65f-4801-8d9d-897dd5800d5c",
   "metadata": {},
   "outputs": [],
   "source": [
    "distdendro = function(df, key) {\n",
    "    dmat = bind_rows(fdist, rename(fdist, samp2=samp1, samp1=samp2)) %>%\n",
    "        filter(samp1 %in% df$sample, samp2%in%df$sample) %>%\n",
    "        group_by(samp1, samp2) %>%\n",
    "        summarise(dist=mean(dist)) %>%\n",
    "        ungroup() %>%\n",
    "        pivot_wider(names_from = \"samp2\", values_from = \"dist\") %>%\n",
    "        column_to_rownames(\"samp1\") %>%\n",
    "        as.matrix()\n",
    "    dmat[is.na(dmat)] = 0\n",
    "    \n",
    "    hc =dmat %>%\n",
    "        as.dist() %>%\n",
    "        hclust()\n",
    "    \n",
    "    df = select(spp, sample, species2) %>%\n",
    "        unique() %>%\n",
    "        column_to_rownames(\"sample\")\n",
    "    p = ggtree(hc, layout=\"circular\")  %<+% spp \n",
    "    gheatmap(p, df, colnames=F, offset=0, width=.3) +\n",
    "        scale_y_continuous(expand=c(0, 0.6)) +\n",
    "        scale_fill_brewer(palette=\"Set1\") +\n",
    "        labs(fill=\"Species\", title=key)\n",
    "    ggsave(sprintf(\"plot/mashtree_%s.png\", key), width=3200, height=2400, units = \"px\")\n",
    "    \n",
    "    meand = dmat %>%\n",
    "        rowMeans()\n",
    "    m = meand<0.06\n",
    "    hist(meand)\n",
    "    \n",
    "    dfilt = dmat[m, m]\n",
    "    png(sprintf(\"plot/mashmatrix_%s.png\", key), width=2400, height=2400)\n",
    "    image(dmat)\n",
    "    dev.off()\n",
    "    dfilt %>%\n",
    "        as.dist() %>%\n",
    "        prcomp() %>%\n",
    "        magrittr::extract2(\"x\") %>%\n",
    "        as.data.frame() %>%\n",
    "        rownames_to_column(\"sample\") %>%\n",
    "        left_join(spp) %>%\n",
    "        ggplot(aes(x=PC1, y=PC2)) +\n",
    "        geom_point(aes(colour=species2), size=4, alpha=0.5) +\n",
    "        labs(colour=\"Species\", title=key) +\n",
    "        guides(colour=guide_legend(nrow=2)) +\n",
    "        scale_color_brewer(palette = \"Set1\") +\n",
    "        theme_bw() +\n",
    "        theme(\n",
    "            legend.position=\"bottom\",\n",
    "        )\n",
    "    ggsave(sprintf(\"plot/mashpca_%s.png\", key), width=2400, height=2400, units = \"px\")\n",
    "    dmat\n",
    "}"
   ]
  },
  {
   "cell_type": "code",
   "execution_count": 169,
   "id": "b5155a41-c3bb-4930-a094-91f2d2fe46d5",
   "metadata": {},
   "outputs": [
    {
     "name": "stderr",
     "output_type": "stream",
     "text": [
      "\u001b[1m\u001b[22m`summarise()` has grouped output by 'samp1'. You can override using the `.groups` argument.\n",
      "\u001b[1m\u001b[22mScale for \u001b[32my\u001b[39m is already present.\n",
      "Adding another scale for \u001b[32my\u001b[39m, which will replace the existing scale.\n",
      "\u001b[1m\u001b[22mScale for \u001b[32my\u001b[39m is already present.\n",
      "Adding another scale for \u001b[32my\u001b[39m, which will replace the existing scale.\n",
      "\u001b[1m\u001b[22mScale for \u001b[32mfill\u001b[39m is already present.\n",
      "Adding another scale for \u001b[32mfill\u001b[39m, which will replace the existing scale.\n",
      "\u001b[1m\u001b[22mJoining with `by = join_by(sample)`\n",
      "\u001b[1m\u001b[22m`summarise()` has grouped output by 'samp1'. You can override using the `.groups` argument.\n",
      "\u001b[1m\u001b[22mScale for \u001b[32my\u001b[39m is already present.\n",
      "Adding another scale for \u001b[32my\u001b[39m, which will replace the existing scale.\n",
      "\u001b[1m\u001b[22mScale for \u001b[32my\u001b[39m is already present.\n",
      "Adding another scale for \u001b[32my\u001b[39m, which will replace the existing scale.\n",
      "\u001b[1m\u001b[22mScale for \u001b[32mfill\u001b[39m is already present.\n",
      "Adding another scale for \u001b[32mfill\u001b[39m, which will replace the existing scale.\n",
      "\u001b[1m\u001b[22mJoining with `by = join_by(sample)`\n",
      "\u001b[1m\u001b[22m`summarise()` has grouped output by 'samp1'. You can override using the `.groups` argument.\n",
      "\u001b[1m\u001b[22mScale for \u001b[32my\u001b[39m is already present.\n",
      "Adding another scale for \u001b[32my\u001b[39m, which will replace the existing scale.\n",
      "\u001b[1m\u001b[22mScale for \u001b[32my\u001b[39m is already present.\n",
      "Adding another scale for \u001b[32my\u001b[39m, which will replace the existing scale.\n",
      "\u001b[1m\u001b[22mScale for \u001b[32mfill\u001b[39m is already present.\n",
      "Adding another scale for \u001b[32mfill\u001b[39m, which will replace the existing scale.\n"
     ]
    },
    {
     "data": {
      "image/png": "[encoded data removed]",
      "text/plain": [
       "Plot with title “Histogram of meand”"
      ]
     },
     "metadata": {
      "image/png": {
       "height": 420,
       "width": 420
      }
     },
     "output_type": "display_data"
    },
    {
     "name": "stderr",
     "output_type": "stream",
     "text": [
      "\u001b[1m\u001b[22mJoining with `by = join_by(sample)`\n"
     ]
    },
    {
     "data": {
      "image/png": "[encoded data removed]",
      "text/plain": [
       "Plot with title “Histogram of meand”"
      ]
     },
     "metadata": {
      "image/png": {
       "height": 420,
       "width": 420
      }
     },
     "output_type": "display_data"
    },
    {
     "data": {
      "image/png": "[encoded data removed]",
      "text/plain": [
       "Plot with title “Histogram of meand”"
      ]
     },
     "metadata": {
      "image/png": {
       "height": 420,
       "width": 420
      }
     },
     "output_type": "display_data"
    }
   ],
   "source": [
    "dists = meta %>%\n",
    "    filter(!is.na(Section)) %>%\n",
    "    group_by(Section) %>%\n",
    "    group_map(distdendro)"
   ]
  },
  {
   "cell_type": "code",
   "execution_count": null,
   "id": "e515f3e0-aa81-474c-ae5f-1179cf003ef4",
   "metadata": {},
   "outputs": [],
   "source": []
  }
 ],
 "metadata": {
  "kernelspec": {
   "display_name": "R",
   "language": "R",
   "name": "ir"
  },
  "language_info": {
   "codemirror_mode": "r",
   "file_extension": ".r",
   "mimetype": "text/x-r-source",
   "name": "R",
   "pygments_lexer": "r",
   "version": "4.0.4"
  }
 },
 "nbformat": 4,
 "nbformat_minor": 5
}
