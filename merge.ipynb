{
 "cells": [
  {
   "cell_type": "code",
   "execution_count": 1,
   "id": "e662d801-c3d4-463e-bdd3-274fee32d8c9",
   "metadata": {},
   "outputs": [],
   "source": [
    "identical_or_na =function(x) {\n",
    "    tb = unique(na.omit(x))\n",
    "    if (length(tb) == 0) return(NA)\n",
    "    if(length(tb)!=1) warning(paste(\"Duplicate values:\", paste(tb, collapse=\",\")))\n",
    "    tb\n",
    "}"
   ]
  },
  {
   "cell_type": "code",
   "execution_count": 2,
   "id": "b395aab0-00f4-495d-90da-06ecfed44722",
   "metadata": {},
   "outputs": [
    {
     "name": "stderr",
     "output_type": "stream",
     "text": [
      "── \u001b[1mAttaching core tidyverse packages\u001b[22m ─────────────────────────────────────────────────────────────────────────────────────────────────────────────────────────────────────────────────────────────────────────────────────────────────────────────────────────────── tidyverse 2.0.0 ──\n",
      "\u001b[32m✔\u001b[39m \u001b[34mdplyr    \u001b[39m 1.1.4     \u001b[32m✔\u001b[39m \u001b[34mreadr    \u001b[39m 2.1.4\n",
      "\u001b[32m✔\u001b[39m \u001b[34mforcats  \u001b[39m 1.0.0     \u001b[32m✔\u001b[39m \u001b[34mstringr  \u001b[39m 1.5.1\n",
      "\u001b[32m✔\u001b[39m \u001b[34mggplot2  \u001b[39m 3.4.4     \u001b[32m✔\u001b[39m \u001b[34mtibble   \u001b[39m 3.2.1\n",
      "\u001b[32m✔\u001b[39m \u001b[34mlubridate\u001b[39m 1.9.3     \u001b[32m✔\u001b[39m \u001b[34mtidyr    \u001b[39m 1.3.0\n",
      "\u001b[32m✔\u001b[39m \u001b[34mpurrr    \u001b[39m 1.0.2     \n",
      "── \u001b[1mConflicts\u001b[22m ───────────────────────────────────────────────────────────────────────────────────────────────────────────────────────────────────────────────────────────────────────────────────────────────────────────────────────────────────────────────── tidyverse_conflicts() ──\n",
      "\u001b[31m✖\u001b[39m \u001b[34mdplyr\u001b[39m::\u001b[32mfilter()\u001b[39m masks \u001b[34mstats\u001b[39m::filter()\n",
      "\u001b[31m✖\u001b[39m \u001b[34mdplyr\u001b[39m::\u001b[32mlag()\u001b[39m    masks \u001b[34mstats\u001b[39m::lag()\n",
      "\u001b[36mℹ\u001b[39m Use the conflicted package (\u001b[3m\u001b[34m<http://conflicted.r-lib.org/>\u001b[39m\u001b[23m) to force all conflicts to become errors\n"
     ]
    }
   ],
   "source": [
    "library(tidyverse)\n",
    "library(readxl)\n",
    "options(readr.show_col_types=F)"
   ]
  },
  {
   "cell_type": "code",
   "execution_count": 3,
   "id": "6f852f3a-0e8d-4fb3-9f49-6b1c8b33dfcd",
   "metadata": {},
   "outputs": [],
   "source": [
    "allfq = tibble(fq=readLines(\"fofq.txt\")) %>%\n",
    "    mutate(\n",
    "        run=dirname(fq) %>% basename(),\n",
    "        fname=basename(fq) %>%\n",
    "            sub(\"_(il|R1|R2)(_001)?\\\\.(fastq|fq)(\\\\.gz)?\", \"\", .) %>%\n",
    "            sub(\"^novaseq_\", \"\", .)\n",
    "        ,\n",
    "        sname = fname %>%\n",
    "            sub(\"_S\\\\d+_L00[1-8]$\", \"\", .) %>%\n",
    "            sub(\"_S\\\\d+$\", \"\", .) %>%\n",
    "            sub(\"-(NextRAD|WGS)\", \"\", .)\n",
    "        ,\n",
    "        read=case_when(\n",
    "            grepl(\"_il.fastq.gz\", fq) ~ \"interleaved_uri\",\n",
    "            grepl(\"_R1(_001)?.fastq.gz\", fq) ~ \"read1_uri\",\n",
    "            grepl(\"_R2(_001)?.fastq.gz\", fq) ~ \"read2_uri\",\n",
    "        ),\n",
    "    ) %>%\n",
    "    filter(!grepl(\"^(NCT|[Bb]lank|neg)|_blank\", fname))"
   ]
  },
  {
   "cell_type": "code",
   "execution_count": 4,
   "id": "6e1d8557-2b61-4fc5-84a8-34f91585fc6f",
   "metadata": {},
   "outputs": [
    {
     "name": "stdout",
     "output_type": "stream",
     "text": [
      "Rows: 760\n",
      "Columns: 3\n",
      "$ sample      \u001b[3m\u001b[90m<chr>\u001b[39m\u001b[23m \"GOL0025_1D_1\", \"GOL0025_1D_1\", \"GOL0025_1D\", \"GOL0025_1D\"…\n",
      "$ species     \u001b[3m\u001b[90m<chr>\u001b[39m\u001b[23m \"Eucalptus melliodora\", \"Eucalptus melliodora\", \"Eucalptus…\n",
      "$ meta_source \u001b[3m\u001b[90m<chr>\u001b[39m\u001b[23m \"hb_rhizo\", \"hb_rhizo\", \"hb_rhizo\", \"hb_rhizo\", \"hb_rhizo\"…\n"
     ]
    }
   ],
   "source": [
    "hb_rhizo = allfq %>%\n",
    "    filter(grepl(\"Rhizo_[1234]\", run)) %>%\n",
    "    transmute(sample=sname, species=\"Eucalptus melliodora\",  meta_source=\"hb_rhizo\") %>%\n",
    "    glimpse()"
   ]
  },
  {
   "cell_type": "code",
   "execution_count": 5,
   "id": "df3c5e8f-a881-43b9-b3e4-e9ea9d24b03d",
   "metadata": {},
   "outputs": [
    {
     "name": "stderr",
     "output_type": "stream",
     "text": [
      "\u001b[1m\u001b[22mNew names:\n",
      "\u001b[36m•\u001b[39m `` -> `...5`\n",
      "\u001b[36m•\u001b[39m `` -> `...7`\n",
      "\u001b[36m•\u001b[39m `` -> `...8`\n",
      "\u001b[36m•\u001b[39m `` -> `...10`\n",
      "\u001b[36m•\u001b[39m `` -> `...11`\n",
      "\u001b[36m•\u001b[39m `` -> `...13`\n",
      "\u001b[36m•\u001b[39m `` -> `...14`\n",
      "\u001b[36m•\u001b[39m `` -> `...16`\n",
      "\u001b[36m•\u001b[39m `` -> `...28`\n"
     ]
    }
   ],
   "source": [
    "dieback = read_excel(\"input/Euc Dieback and Melaleuca metadata with indices_updated20230830.xlsx\", na=\"NA\") %>%\n",
    "    janitor::clean_names() %>%\n",
    "    filter(!if_all(everything(), is.na))"
   ]
  },
  {
   "cell_type": "code",
   "execution_count": 6,
   "id": "32782219-a825-4dd9-92b2-4f1c976ed6a0",
   "metadata": {},
   "outputs": [
    {
     "name": "stdout",
     "output_type": "stream",
     "text": [
      "Rows: 1,924\n",
      "Columns: 9\n",
      "$ meta_source \u001b[3m\u001b[90m<chr>\u001b[39m\u001b[23m \"dieback\", \"dieback\", \"dieback\", \"dieback\", \"dieback\", \"di…\n",
      "$ sample      \u001b[3m\u001b[90m<chr>\u001b[39m\u001b[23m \"NCT\", \"MON0000\", \"MON0001\", \"MON0002\", \"MON0003\", \"MON000…\n",
      "$ latitude    \u001b[3m\u001b[90m<dbl>\u001b[39m\u001b[23m NA, -37.13612, -37.13286, -37.13042, -37.14368, NA, -37.13…\n",
      "$ longitude   \u001b[3m\u001b[90m<dbl>\u001b[39m\u001b[23m NA, 149.3636, 149.4232, 149.4340, 149.4330, NA, 149.3556, …\n",
      "$ elevation   \u001b[3m\u001b[90m<dbl>\u001b[39m\u001b[23m NA, 0, 0, 0, 0, NA, 0, 0, 0, 0, 0, 0, 0, 0, 0, 0, 0, 0, 0,…\n",
      "$ species     \u001b[3m\u001b[90m<chr>\u001b[39m\u001b[23m NA, \"E. radiata\", \"E. viminalis\", \"E. dives\", \"E. dives\", …\n",
      "$ date        \u001b[3m\u001b[90m<date>\u001b[39m\u001b[23m NA, 2019-12-10, 2019-12-10, 2019-12-10, 2019-12-10, NA, 2…\n",
      "$ notes       \u001b[3m\u001b[90m<chr>\u001b[39m\u001b[23m NA, \"Imlay Rd 50.5 km from ?\", \"Imlay Rd 48km from ?\", \"Im…\n",
      "$ seed        \u001b[3m\u001b[90m<chr>\u001b[39m\u001b[23m NA, \"Yes\", \"Yes\", \"Yes\", \"Yes\", NA, \"Yes\", \"Yes\", \"Yes\", \"…\n"
     ]
    }
   ],
   "source": [
    "dieback_pre = dieback %>%\n",
    "    transmute(\n",
    "        meta_source=\"dieback\",\n",
    "        sample=sample_no,\n",
    "        latitude,\n",
    "        longitude,\n",
    "        elevation,\n",
    "        species,\n",
    "        date=as.Date(date, origin=\"1899-12-30\"),\n",
    "        notes=note,\n",
    "        seed,\n",
    "    ) %>%\n",
    "    glimpse()"
   ]
  },
  {
   "cell_type": "code",
   "execution_count": 7,
   "id": "4e09a6bd-b2a6-43d5-a623-e67095ed37b2",
   "metadata": {},
   "outputs": [
    {
     "name": "stderr",
     "output_type": "stream",
     "text": [
      "\u001b[1m\u001b[22mNew names:\n",
      "\u001b[36m•\u001b[39m `` -> `...1`\n"
     ]
    },
    {
     "name": "stdout",
     "output_type": "stream",
     "text": [
      "Rows: 189\n",
      "Columns: 8\n",
      "$ sample      \u001b[3m\u001b[90m<chr>\u001b[39m\u001b[23m \"DDA123e\", \"DDA123j\", \"DDA129\", \"DDA123b\", \"DDA123d\", \"DDA…\n",
      "$ species     \u001b[3m\u001b[90m<chr>\u001b[39m\u001b[23m \"Eucalyptus canobolensis\", \"Eucalyptus canobolensis\", \"Euc…\n",
      "$ latitude    \u001b[3m\u001b[90m<dbl>\u001b[39m\u001b[23m -33.35989, -33.35989, -33.33897, -33.35989, -33.35989, -33…\n",
      "$ longitude   \u001b[3m\u001b[90m<dbl>\u001b[39m\u001b[23m 148.9730, 148.9730, 149.0061, 148.9730, 148.9730, 148.9770…\n",
      "$ location    \u001b[3m\u001b[90m<chr>\u001b[39m\u001b[23m \"c. 350m west from Mt Towac track, Mt Canobolas.\", \"c. 350…\n",
      "$ notes       \u001b[3m\u001b[90m<chr>\u001b[39m\u001b[23m NA, NA, NA, NA, NA, NA, NA, NA, NA, NA, NA, NA, NA, NA, NA…\n",
      "$ date        \u001b[3m\u001b[90m<date>\u001b[39m\u001b[23m 2019-11-03, 2019-11-03, 2019-11-04, 2019-11-03, 2019-11-0…\n",
      "$ meta_source \u001b[3m\u001b[90m<chr>\u001b[39m\u001b[23m \"neweng\", \"neweng\", \"neweng\", \"neweng\", \"neweng\", \"neweng\"…\n"
     ]
    }
   ],
   "source": [
    "neweng = read_csv(\"input/Maid_meta_bio_tags.csv\") %>%\n",
    "    janitor::clean_names() %>%\n",
    "    filter(is.na(no_out)) %>%\n",
    "    transmute(\n",
    "        sample, species=species_x, latitude, longitude, location, notes, date=lubridate::as_date(lubridate::dmy_hm(parsed_date)),\n",
    "        meta_source=\"neweng\", \n",
    "    ) %>%\n",
    "    glimpse()"
   ]
  },
  {
   "cell_type": "code",
   "execution_count": 8,
   "id": "720c683b-4ffc-4f98-8e82-36d56ac7abcf",
   "metadata": {},
   "outputs": [
    {
     "name": "stdout",
     "output_type": "stream",
     "text": [
      "Rows: 1,746\n",
      "Columns: 14\n",
      "$ sample      \u001b[3m\u001b[90m<chr>\u001b[39m\u001b[23m \"FDK10\", \"Gund15\", \"Gund16\", \"Gund21\", \"Gund22\", \"Gund23\",…\n",
      "$ species     \u001b[3m\u001b[90m<chr>\u001b[39m\u001b[23m \"Eucalyptus microcarpa\", \"Eucalyptus albens x sideroxylon\"…\n",
      "$ date        \u001b[3m\u001b[90m<chr>\u001b[39m\u001b[23m \"2013-10-31T00:00:00Z\", \"2014-05-29T03:28:41Z\", \"2014-05-2…\n",
      "$ parsed_date \u001b[3m\u001b[90m<dttm>\u001b[39m\u001b[23m 2013-10-31 00:00:00, 2014-05-29 03:28:41, 2014-05-29 03:2…\n",
      "$ latitude    \u001b[3m\u001b[90m<dbl>\u001b[39m\u001b[23m -36.33119, -34.98254, -34.98273, -34.98324, -34.98335, -34…\n",
      "$ longitude   \u001b[3m\u001b[90m<dbl>\u001b[39m\u001b[23m 145.7069, 148.1257, 148.1252, 148.1232, 148.1233, 148.1231…\n",
      "$ elevation   \u001b[3m\u001b[90m<dbl>\u001b[39m\u001b[23m 153, 253, 259, 279, 281, 285, 275, 268, 430, 408, 681, 670…\n",
      "$ datum       \u001b[3m\u001b[90m<chr>\u001b[39m\u001b[23m \"WGS84\", \"WGS84\", \"WGS84\", \"WGS84\", \"WGS84\", \"WGS84\", \"WGS…\n",
      "$ location    \u001b[3m\u001b[90m<chr>\u001b[39m\u001b[23m \"Dookie (private property)\", \"Leonard's Road, Coolac (priv…\n",
      "$ collectors  \u001b[3m\u001b[90m<chr>\u001b[39m\u001b[23m NA, NA, NA, NA, NA, NA, NA, NA, NA, NA, NA, NA, NA, NA, NA…\n",
      "$ samplename  \u001b[3m\u001b[90m<chr>\u001b[39m\u001b[23m NA, NA, NA, NA, NA, NA, NA, NA, NA, NA, NA, NA, NA, NA, NA…\n",
      "$ population  \u001b[3m\u001b[90m<chr>\u001b[39m\u001b[23m NA, NA, NA, NA, NA, NA, NA, NA, NA, NA, NA, NA, NA, NA, NA…\n",
      "$ seed        \u001b[3m\u001b[90m<chr>\u001b[39m\u001b[23m NA, NA, NA, NA, NA, NA, NA, NA, NA, NA, NA, NA, NA, NA, NA…\n",
      "$ notes       \u001b[3m\u001b[90m<chr>\u001b[39m\u001b[23m \"elevation computed from api.geonames.org/astergdem\", \"whi…\n"
     ]
    }
   ],
   "source": [
    "dp15_meta = read_tsv(\"input/sample-metadata.tsv\") %>%\n",
    "    unique() %>%\n",
    "    glimpse()"
   ]
  },
  {
   "cell_type": "markdown",
   "id": "671c7219-59fb-44d3-8434-b005ecea7c0c",
   "metadata": {},
   "source": [
    "This is needed as we have a few duplicates for the CCAs. The below horrible filter statement picks the most data complete ones (remove it to see)"
   ]
  },
  {
   "cell_type": "code",
   "execution_count": 9,
   "id": "4b9db125-e84b-4cad-857a-37501863d3ef",
   "metadata": {},
   "outputs": [
    {
     "name": "stdout",
     "output_type": "stream",
     "text": [
      "Rows: 1,716\n",
      "Columns: 13\n",
      "$ sample      \u001b[3m\u001b[90m<chr>\u001b[39m\u001b[23m \"Angophora_floribunda_ANU_Banks_Building\", \"CCA0003\", \"CCA…\n",
      "$ species     \u001b[3m\u001b[90m<chr>\u001b[39m\u001b[23m \"Angophora floribunda\", \"Eucalyptus mannensis subsp. manne…\n",
      "$ date        \u001b[3m\u001b[90m<date>\u001b[39m\u001b[23m NA, NA, NA, NA, NA, NA, NA, NA, NA, NA, NA, NA, NA, NA, N…\n",
      "$ latitude    \u001b[3m\u001b[90m<dbl>\u001b[39m\u001b[23m NA, NA, -29.36972, -30.83028, -30.83028, -33.04611, -38.41…\n",
      "$ longitude   \u001b[3m\u001b[90m<dbl>\u001b[39m\u001b[23m NA, NA, 130.0492, 116.6392, 116.6392, 121.1722, 143.9333, …\n",
      "$ elevation   \u001b[3m\u001b[90m<dbl>\u001b[39m\u001b[23m NA, NA, 242, 320, 320, 215, 364, 1080, 320, 735, 71, 237, …\n",
      "$ datum       \u001b[3m\u001b[90m<chr>\u001b[39m\u001b[23m NA, NA, \"WGS84\", \"WGS84\", \"WGS84\", \"WGS84\", \"WGS84\", \"WGS8…\n",
      "$ location    \u001b[3m\u001b[90m<chr>\u001b[39m\u001b[23m \"ANU Banks Building\", NA, \"West of Vokes Hill to Cook Road…\n",
      "$ collectors  \u001b[3m\u001b[90m<chr>\u001b[39m\u001b[23m NA, \"Dean Nicolle\", \"Dean Nicolle\", \"Dean Nicolle\", \"Dean …\n",
      "$ population  \u001b[3m\u001b[90m<chr>\u001b[39m\u001b[23m NA, NA, NA, NA, NA, NA, NA, NA, NA, NA, NA, NA, NA, NA, NA…\n",
      "$ seed        \u001b[3m\u001b[90m<chr>\u001b[39m\u001b[23m NA, NA, NA, NA, NA, NA, NA, NA, NA, NA, NA, NA, NA, NA, NA…\n",
      "$ notes       \u001b[3m\u001b[90m<chr>\u001b[39m\u001b[23m NA, NA, \"elevation computed from api.geonames.org/astergde…\n",
      "$ meta_source \u001b[3m\u001b[90m<chr>\u001b[39m\u001b[23m \"dp15\", \"dp15\", \"dp15\", \"dp15\", \"dp15\", \"dp15\", \"dp15\", \"d…\n"
     ]
    }
   ],
   "source": [
    "dp15_meta_pre = dp15_meta %>%\n",
    "    group_by(sample) %>%\n",
    "    mutate(n=n()) %>%\n",
    "    ungroup() %>%\n",
    "    arrange(sample)  %>%\n",
    "    filter(n==1 | (n != 1  & is.na(samplename))) %>%\n",
    "    mutate(\n",
    "        meta_source=\"dp15\",\n",
    "        date=sub(\"T.*\", \"\", date) %>% as.Date(),\n",
    "    ) %>%\n",
    "    select(-n, -parsed_date, -samplename) %>%\n",
    "    glimpse() "
   ]
  },
  {
   "cell_type": "code",
   "execution_count": 10,
   "id": "84fe4bd2-e185-48b8-a6c5-c07812929e88",
   "metadata": {},
   "outputs": [
    {
     "name": "stdout",
     "output_type": "stream",
     "text": [
      "Rows: 6,098\n",
      "Columns: 8\n",
      "$ sample      \u001b[3m\u001b[90m<chr>\u001b[39m\u001b[23m \"CCA0001\", \"CCA0002\", \"CCA0003\", \"CCA0004\", \"CCA0005\", \"CC…\n",
      "$ species     \u001b[3m\u001b[90m<chr>\u001b[39m\u001b[23m \"Eucalyptus leptopoda subsp. elevata\", \"Eucalyptus leptopo…\n",
      "$ location    \u001b[3m\u001b[90m<chr>\u001b[39m\u001b[23m \"40 km east of Neale Junction, Western Australia.\", \"40 km…\n",
      "$ latitude    \u001b[3m\u001b[90m<dbl>\u001b[39m\u001b[23m NA, NA, NA, NA, NA, NA, NA, NA, NA, NA, NA, NA, NA, NA, NA…\n",
      "$ longitude   \u001b[3m\u001b[90m<dbl>\u001b[39m\u001b[23m NA, NA, NA, NA, NA, NA, NA, NA, NA, NA, NA, NA, NA, NA, NA…\n",
      "$ date        \u001b[3m\u001b[90m<date>\u001b[39m\u001b[23m NA, NA, NA, NA, NA, NA, NA, NA, NA, NA, NA, NA, NA, NA, N…\n",
      "$ notes       \u001b[3m\u001b[90m<chr>\u001b[39m\u001b[23m NA, NA, NA, NA, NA, NA, NA, NA, NA, NA, NA, NA, NA, NA, NA…\n",
      "$ meta_source \u001b[3m\u001b[90m<chr>\u001b[39m\u001b[23m \"cca\", \"cca\", \"cca\", \"cca\", \"cca\", \"cca\", \"cca\", \"cca\", \"c…\n"
     ]
    }
   ],
   "source": [
    "cca_pre = read_excel(\"input/CCATreesCombinedMetadata_ash.xlsx\", na = \"NA\", guess_max = 100000) %>%\n",
    "    janitor::clean_names() %>%\n",
    "    transmute(\n",
    "        sample=field_id,\n",
    "        species=current_name,\n",
    "        location,\n",
    "        latitude,\n",
    "        longitude, \n",
    "        date = as.Date(date),\n",
    "        notes = field_comments,\n",
    "        meta_source=\"cca\",\n",
    "    ) %>%\n",
    "    glimpse()"
   ]
  },
  {
   "cell_type": "code",
   "execution_count": 11,
   "id": "f27502f8-abca-4797-b9ea-df7fb1dc25a5",
   "metadata": {},
   "outputs": [
    {
     "name": "stderr",
     "output_type": "stream",
     "text": [
      "\u001b[1m\u001b[22mNew names:\n",
      "\u001b[36m•\u001b[39m `` -> `...14`\n",
      "\u001b[36m•\u001b[39m `` -> `...15`\n",
      "\u001b[36m•\u001b[39m `` -> `...17`\n",
      "\u001b[36m•\u001b[39m `` -> `...18`\n"
     ]
    },
    {
     "name": "stdout",
     "output_type": "stream",
     "text": [
      "Rows: 192\n",
      "Columns: 7\n",
      "$ sample      \u001b[3m\u001b[90m<chr>\u001b[39m\u001b[23m \"JAZ_83\", \"DC_2030\", \"JAZ_54c\", \"JAZ_23\", \"JAZ_47a\", \"JAZ_…\n",
      "$ species     \u001b[3m\u001b[90m<chr>\u001b[39m\u001b[23m \"E bridgesiana\", \"E nova-anglica\", \"E nova-anglica\", \"E no…\n",
      "$ location    \u001b[3m\u001b[90m<chr>\u001b[39m\u001b[23m \"NEWH01\", \"HORT01\", \"WAND01\", \"HELE01\", \"LAUR01\", \"TOMG02\"…\n",
      "$ latitude    \u001b[3m\u001b[90m<dbl>\u001b[39m\u001b[23m -30.43353, -30.33085, -30.00786, -30.51457, -30.17244, -30…\n",
      "$ longitude   \u001b[3m\u001b[90m<dbl>\u001b[39m\u001b[23m 151.6649, 150.2729, 151.4809, 151.9926, 151.6151, 151.6115…\n",
      "$ elevation   \u001b[3m\u001b[90m<dbl>\u001b[39m\u001b[23m NA, 930, 1131, 1010, 1260, 1300, 970, 1205, 1404, 890, 105…\n",
      "$ meta_source \u001b[3m\u001b[90m<chr>\u001b[39m\u001b[23m \"JZ\", \"JZ\", \"JZ\", \"JZ\", \"JZ\", \"JZ\", \"JZ\", \"JZ\", \"JZ\", \"JZ\"…\n"
     ]
    }
   ],
   "source": [
    "jz = readxl::read_excel(\"input/JZ metadata_jan24.xlsx\") %>%\n",
    "    transmute(\n",
    "        sample=name,\n",
    "        species=species,\n",
    "        location=site,\n",
    "        latitude,\n",
    "        longitude,\n",
    "        elevation,\n",
    "        meta_source=\"JZ\",\n",
    "    ) %>%\n",
    "    glimpse()"
   ]
  },
  {
   "cell_type": "code",
   "execution_count": 12,
   "id": "f9f9c32b-cbea-4963-8ae2-3ddd9c5cc843",
   "metadata": {},
   "outputs": [
    {
     "name": "stderr",
     "output_type": "stream",
     "text": [
      "\u001b[1m\u001b[22mNew names:\n",
      "\u001b[36m•\u001b[39m `` -> `...14`\n",
      "\u001b[36m•\u001b[39m `` -> `...15`\n"
     ]
    },
    {
     "name": "stdout",
     "output_type": "stream",
     "text": [
      "Rows: 192\n",
      "Columns: 6\n",
      "$ sample      \u001b[3m\u001b[90m<chr>\u001b[39m\u001b[23m \"AY_01\", \"AY_02\", \"AY_03\", \"AY_04\", \"AY_05\", \"AY_06\", \"AY_…\n",
      "$ location    \u001b[3m\u001b[90m<chr>\u001b[39m\u001b[23m \"Albury\", \"Albury\", \"Albury\", \"Albury\", \"Albury\", \"Albury\"…\n",
      "$ latitude    \u001b[3m\u001b[90m<dbl>\u001b[39m\u001b[23m -36.10000, -36.10000, -36.10000, -36.10000, -36.10000, -36…\n",
      "$ longitude   \u001b[3m\u001b[90m<dbl>\u001b[39m\u001b[23m 146.8833, 146.8833, 146.8833, 146.8833, 146.8833, 146.8833…\n",
      "$ elevation   \u001b[3m\u001b[90m<dbl>\u001b[39m\u001b[23m 0, 0, 0, 0, 0, 0, 0, 0, 0, 0, 0, 0, 0, 5, 5, 5, 5, 5, 5, 5…\n",
      "$ meta_source \u001b[3m\u001b[90m<chr>\u001b[39m\u001b[23m \"RRG\", \"RRG\", \"RRG\", \"RRG\", \"RRG\", \"RRG\", \"RRG\", \"RRG\", \"R…\n"
     ]
    }
   ],
   "source": [
    "rrg = readxl::read_excel(\"input/RRG_metadata_2_jan24.xlsx\") %>%\n",
    "    transmute(\n",
    "        sample=Sample_ID,\n",
    "        location=Location,\n",
    "        latitude=Lat,\n",
    "        longitude=Long,\n",
    "        elevation=Elevation,\n",
    "        meta_source=\"RRG\",\n",
    "    ) %>%\n",
    "    glimpse()"
   ]
  },
  {
   "cell_type": "code",
   "execution_count": 13,
   "id": "227421d8-711e-4837-a339-a4a47cdbc891",
   "metadata": {},
   "outputs": [
    {
     "name": "stderr",
     "output_type": "stream",
     "text": [
      "Warning message:\n",
      "“\u001b[1m\u001b[22mThere were 2 warnings in `mutate()`.\n",
      "The first warning was:\n",
      "\u001b[1m\u001b[22m\u001b[36mℹ\u001b[39m In argument: `parsed_date = case_when(...)`.\n",
      "Caused by warning:\n",
      "\u001b[33m!\u001b[39m  1170 failed to parse.\n",
      "\u001b[1m\u001b[22m\u001b[36mℹ\u001b[39m Run `dplyr::last_dplyr_warnings()` to see the 1 remaining warning.”\n"
     ]
    }
   ],
   "source": [
    "all_eucs =  bind_rows(dp15_meta_pre, dieback_pre, neweng, jz, rrg, hb_rhizo) %>%\n",
    "    mutate_if(is.character, utf8::utf8_encode) %>%\n",
    "    mutate(\n",
    "        parsed_date = case_when(\n",
    "            !is.na(as.numeric(date)) ~ as.Date(as.numeric(date), origin = \"1899-12-30\"),\n",
    "            grepl(\"\\\\d{2}-(JAN|FEB|MAR|APR|MAY|JUN|JUL|AUG|SEP|OCT|NOV|DEC)-\\\\d+\", date, perl=T) ~ lubridate::dmy(sub(\" .+\", \"\", date)),\n",
    "            grepl(\"T.+Z\", date) ~ lubridate::ymd(sub(\"T.+Z\", \"\", date)),\n",
    "            grepl(\"\\\\d+/\\\\d+/\\\\d{4}\", date) ~ lubridate::dmy(date),\n",
    "            \n",
    "        ),\n",
    "        latitude=ifelse(latitude==0, NA, latitude),\n",
    "        longitude=ifelse(longitude==0, NA, longitude),\n",
    "        species=ifelse(species==\"0\", NA_character_, species),\n",
    "        species=sub(\"E\\\\.? \", \"Eucalyptus \", species, fixed=T),\n",
    "        errors = case_when(\n",
    "            is.na(species) ~ \"no_species\",\n",
    "            is.na(latitude) & is.na(longitude) ~ \"no_latlong\",\n",
    "            !(latitude > -44 & latitude < -10 & longitude > 110 & longitude < 155) ~ \"latlong_not_in_australia\",\n",
    "            T ~ NA_character_,\n",
    "        ),\n",
    "    )"
   ]
  },
  {
   "cell_type": "code",
   "execution_count": 14,
   "id": "93b5d0c2-7a51-4698-8924-16f3ec3b012f",
   "metadata": {},
   "outputs": [],
   "source": [
    "write_tsv(all_eucs, \"all_euc_sample_metadata.tsv\", na=\"\")"
   ]
  },
  {
   "cell_type": "markdown",
   "id": "19e46536-7724-4e78-bb33-5f7be8144e17",
   "metadata": {},
   "source": [
    "# Plots"
   ]
  },
  {
   "cell_type": "code",
   "execution_count": 15,
   "id": "03a816cc-c19c-4b20-8247-3f05173327bf",
   "metadata": {},
   "outputs": [
    {
     "name": "stderr",
     "output_type": "stream",
     "text": [
      "Warning message in geom_map(aes(long, lat, group = group, map_id = region), data = aus, :\n",
      "“\u001b[1m\u001b[22mIgnoring unknown aesthetics: \u001b[32mx\u001b[39m and \u001b[32my\u001b[39m”\n",
      "Warning message:\n",
      "“\u001b[1m\u001b[22mRemoved 1804 rows containing missing values (`geom_point()`).”\n",
      "Warning message:\n",
      "“\u001b[1m\u001b[22mRemoved 1804 rows containing missing values (`geom_point()`).”\n"
     ]
    },
    {
     "data": {
      "image/png": "[encoded data removed]",
      "text/plain": [
       "plot without title"
      ]
     },
     "metadata": {
      "image/png": {
       "height": 420,
       "width": 420
      }
     },
     "output_type": "display_data"
    }
   ],
   "source": [
    "aus = map_data(\"world\", \"Australia\")\n",
    "all_eucs %>%\n",
    "    rename(lat=latitude, long=longitude) %>%\n",
    "ggplot(aes(long, lat)) +\n",
    "    geom_map(aes(long, lat, group=group, map_id=region), data=aus, map=aus, colour=\"black\", fill=\"white\") + \n",
    "    geom_point(aes(colour=meta_source), alpha=0.3) +\n",
    "    xlim(c(110, 155)) +\n",
    "    ylim(c(-44, -10)) +\n",
    "    labs(title=\"All BVZ Eucalyptus sequencing\", x=\"Longitude\", y=\"Latitude\") + \n",
    "    coord_fixed() +\n",
    "    theme_bw() +\n",
    "    theme(legend.position=\"bottom\")\n",
    "#ggsave(\"map.svg\", width=8, height=8)\n",
    "ggsave(\"map.png\", width=8, height=8, dpi=600)"
   ]
  },
  {
   "cell_type": "code",
   "execution_count": 16,
   "id": "5d153010-1ebf-4166-8841-5124026c3e73",
   "metadata": {},
   "outputs": [
    {
     "name": "stdout",
     "output_type": "stream",
     "text": [
      "Rows: 4,392\n",
      "Columns: 16\n",
      "$ sample      \u001b[3m\u001b[90m<chr>\u001b[39m\u001b[23m \"1\", \"10\", \"1001\", \"1004\", \"1007\", \"101\", \"1010\", \"1012\", …\n",
      "$ species     \u001b[3m\u001b[90m<chr>\u001b[39m\u001b[23m NA, NA, NA, NA, NA, NA, NA, NA, NA, NA, NA, NA, NA, NA, NA…\n",
      "$ date        \u001b[3m\u001b[90m<date>\u001b[39m\u001b[23m NA, NA, NA, NA, NA, NA, NA, NA, NA, NA, NA, NA, NA, NA, N…\n",
      "$ latitude    \u001b[3m\u001b[90m<dbl>\u001b[39m\u001b[23m NA, NA, NA, NA, NA, NA, NA, NA, NA, NA, NA, NA, NA, NA, NA…\n",
      "$ longitude   \u001b[3m\u001b[90m<dbl>\u001b[39m\u001b[23m NA, NA, NA, NA, NA, NA, NA, NA, NA, NA, NA, NA, NA, NA, NA…\n",
      "$ elevation   \u001b[3m\u001b[90m<dbl>\u001b[39m\u001b[23m NA, NA, NA, NA, NA, NA, NA, NA, NA, NA, NA, NA, NA, NA, NA…\n",
      "$ datum       \u001b[3m\u001b[90m<chr>\u001b[39m\u001b[23m NA, NA, NA, NA, NA, NA, NA, NA, NA, NA, NA, NA, NA, NA, NA…\n",
      "$ location    \u001b[3m\u001b[90m<chr>\u001b[39m\u001b[23m NA, NA, NA, NA, NA, NA, NA, NA, NA, NA, NA, NA, NA, NA, NA…\n",
      "$ collectors  \u001b[3m\u001b[90m<chr>\u001b[39m\u001b[23m NA, NA, NA, NA, NA, NA, NA, NA, NA, NA, NA, NA, NA, NA, NA…\n",
      "$ population  \u001b[3m\u001b[90m<chr>\u001b[39m\u001b[23m NA, NA, NA, NA, NA, NA, NA, NA, NA, NA, NA, NA, NA, NA, NA…\n",
      "$ seed        \u001b[3m\u001b[90m<chr>\u001b[39m\u001b[23m NA, NA, NA, NA, NA, NA, NA, NA, NA, NA, NA, NA, NA, NA, NA…\n",
      "$ notes       \u001b[3m\u001b[90m<chr>\u001b[39m\u001b[23m NA, NA, NA, NA, NA, NA, NA, NA, NA, NA, NA, NA, NA, NA, NA…\n",
      "$ parsed_date \u001b[3m\u001b[90m<date>\u001b[39m\u001b[23m NA, NA, NA, NA, NA, NA, NA, NA, NA, NA, NA, NA, NA, NA, N…\n",
      "$ errors      \u001b[3m\u001b[90m<chr>\u001b[39m\u001b[23m \"no_species\", \"no_species\", \"no_species\", \"no_species\", \"n…\n",
      "$ meta_source \u001b[3m\u001b[90m<chr>\u001b[39m\u001b[23m \"dieback\", \"dieback\", \"dieback\", \"dieback\", \"dieback\", \"di…\n",
      "$ n           \u001b[3m\u001b[90m<int>\u001b[39m\u001b[23m 1, 1, 1, 1, 1, 1, 1, 1, 1, 1, 1, 1, 1, 1, 1, 1, 1, 1, 1, 1…\n"
     ]
    }
   ],
   "source": [
    "meta = all_eucs %>%\n",
    "    filter(!grepl(\"^NCT|[Bb]lank\", sample)) %>%\n",
    "    group_by(sample) %>%\n",
    "    reframe(across(!any_of(\"meta_source\"), identical_or_na), meta_source=paste(unique(meta_source), collapse=\";\")) %>%\n",
    "    add_count(sample) %>%\n",
    "    glimpse()\n",
    "#    filter(n>1)"
   ]
  },
  {
   "cell_type": "code",
   "execution_count": 17,
   "id": "b41f85bb-e34e-40ab-b8d0-340e474d2594",
   "metadata": {},
   "outputs": [],
   "source": [
    "corr =read_tsv(\"manual_corrections.csv\")\n",
    "allfq = allfq %>%\n",
    "    rows_update(corr, by = \"fname\", unmatched=\"ignore\")"
   ]
  },
  {
   "cell_type": "code",
   "execution_count": 18,
   "id": "3f13f0ae-9340-419f-bf37-1f27f3dd8170",
   "metadata": {},
   "outputs": [],
   "source": [
    "full = meta %>%\n",
    "    mutate(has_meta=T) %>%\n",
    "    full_join(allfq, by=join_by(sample==sname))#, relationship=\"one-to-many\") "
   ]
  },
  {
   "cell_type": "code",
   "execution_count": 19,
   "id": "5fcaca48-154d-45d4-b9b1-647c1fb645bc",
   "metadata": {},
   "outputs": [
    {
     "data": {
      "text/html": [
       "<table class=\"dataframe\">\n",
       "<caption>A tibble: 0 × 2</caption>\n",
       "<thead>\n",
       "\t<tr><th scope=col>sample</th><th scope=col>n</th></tr>\n",
       "\t<tr><th scope=col>&lt;chr&gt;</th><th scope=col>&lt;int&gt;</th></tr>\n",
       "</thead>\n",
       "<tbody>\n",
       "</tbody>\n",
       "</table>\n"
      ],
      "text/latex": [
       "A tibble: 0 × 2\n",
       "\\begin{tabular}{ll}\n",
       " sample & n\\\\\n",
       " <chr> & <int>\\\\\n",
       "\\hline\n",
       "\\end{tabular}\n"
      ],
      "text/markdown": [
       "\n",
       "A tibble: 0 × 2\n",
       "\n",
       "| sample &lt;chr&gt; | n &lt;int&gt; |\n",
       "|---|---|\n",
       "\n"
      ],
      "text/plain": [
       "     sample n"
      ]
     },
     "metadata": {},
     "output_type": "display_data"
    }
   ],
   "source": [
    "meta %>%\n",
    "    count(sample) %>%\n",
    "    filter(n>1)"
   ]
  },
  {
   "cell_type": "code",
   "execution_count": 20,
   "id": "6ca96529-f6a9-420c-a9cc-fda34677c7b3",
   "metadata": {},
   "outputs": [
    {
     "name": "stdout",
     "output_type": "stream",
     "text": [
      "Rows: 10,553\n",
      "Columns: 21\n",
      "$ sample      \u001b[3m\u001b[90m<chr>\u001b[39m\u001b[23m \"AY_01\", \"AY_01\", \"AY_01\", \"AY_01\", \"AY_02\", \"AY_02\", \"AY_…\n",
      "$ species     \u001b[3m\u001b[90m<chr>\u001b[39m\u001b[23m NA, NA, NA, NA, NA, NA, NA, NA, NA, NA, NA, NA, NA, NA, NA…\n",
      "$ date        \u001b[3m\u001b[90m<date>\u001b[39m\u001b[23m NA, NA, NA, NA, NA, NA, NA, NA, NA, NA, NA, NA, NA, NA, N…\n",
      "$ latitude    \u001b[3m\u001b[90m<dbl>\u001b[39m\u001b[23m -36.1, -36.1, -36.1, -36.1, -36.1, -36.1, -36.1, -36.1, -3…\n",
      "$ longitude   \u001b[3m\u001b[90m<dbl>\u001b[39m\u001b[23m 146.8833, 146.8833, 146.8833, 146.8833, 146.8833, 146.8833…\n",
      "$ elevation   \u001b[3m\u001b[90m<dbl>\u001b[39m\u001b[23m 0, 0, 0, 0, 0, 0, 0, 0, 0, 0, 0, 0, 0, 0, 0, 0, 0, 0, 0, 0…\n",
      "$ datum       \u001b[3m\u001b[90m<chr>\u001b[39m\u001b[23m NA, NA, NA, NA, NA, NA, NA, NA, NA, NA, NA, NA, NA, NA, NA…\n",
      "$ location    \u001b[3m\u001b[90m<chr>\u001b[39m\u001b[23m \"Albury\", \"Albury\", \"Albury\", \"Albury\", \"Albury\", \"Albury\"…\n",
      "$ collectors  \u001b[3m\u001b[90m<chr>\u001b[39m\u001b[23m NA, NA, NA, NA, NA, NA, NA, NA, NA, NA, NA, NA, NA, NA, NA…\n",
      "$ population  \u001b[3m\u001b[90m<chr>\u001b[39m\u001b[23m NA, NA, NA, NA, NA, NA, NA, NA, NA, NA, NA, NA, NA, NA, NA…\n",
      "$ seed        \u001b[3m\u001b[90m<chr>\u001b[39m\u001b[23m NA, NA, NA, NA, NA, NA, NA, NA, NA, NA, NA, NA, NA, NA, NA…\n",
      "$ notes       \u001b[3m\u001b[90m<chr>\u001b[39m\u001b[23m NA, NA, NA, NA, NA, NA, NA, NA, NA, NA, NA, NA, NA, NA, NA…\n",
      "$ parsed_date \u001b[3m\u001b[90m<date>\u001b[39m\u001b[23m NA, NA, NA, NA, NA, NA, NA, NA, NA, NA, NA, NA, NA, NA, N…\n",
      "$ errors      \u001b[3m\u001b[90m<chr>\u001b[39m\u001b[23m \"no_species\", \"no_species\", \"no_species\", \"no_species\", \"n…\n",
      "$ meta_source \u001b[3m\u001b[90m<chr>\u001b[39m\u001b[23m \"RRG\", \"RRG\", \"RRG\", \"RRG\", \"RRG\", \"RRG\", \"RRG\", \"RRG\", \"R…\n",
      "$ n           \u001b[3m\u001b[90m<int>\u001b[39m\u001b[23m 1, 1, 1, 1, 1, 1, 1, 1, 1, 1, 1, 1, 1, 1, 1, 1, 1, 1, 1, 1…\n",
      "$ has_meta    \u001b[3m\u001b[90m<lgl>\u001b[39m\u001b[23m TRUE, TRUE, TRUE, TRUE, TRUE, TRUE, TRUE, TRUE, TRUE, TRUE…\n",
      "$ fq          \u001b[3m\u001b[90m<chr>\u001b[39m\u001b[23m \"rawdata/reads/2024_brf-euc-novaseq-x-flowcells/AY_01_S1_L…\n",
      "$ run         \u001b[3m\u001b[90m<chr>\u001b[39m\u001b[23m \"2024_brf-euc-novaseq-x-flowcells\", \"2024_brf-euc-novaseq-…\n",
      "$ fname       \u001b[3m\u001b[90m<chr>\u001b[39m\u001b[23m \"AY_01_S1_L001\", \"AY_01_S1_L001\", \"AY_01_S1_L002\", \"AY_01_…\n",
      "$ read        \u001b[3m\u001b[90m<chr>\u001b[39m\u001b[23m \"read1_uri\", \"read2_uri\", \"read1_uri\", \"read2_uri\", \"read1…\n"
     ]
    }
   ],
   "source": [
    "complete_meta = full %>%\n",
    "    filter(!is.na(has_meta), !is.na(fq)) %>%\n",
    "    glimpse()"
   ]
  },
  {
   "cell_type": "code",
   "execution_count": 21,
   "id": "a278f2e4-3215-42c8-b975-381cfeccd2f7",
   "metadata": {},
   "outputs": [],
   "source": [
    "write_tsv(complete_meta, \"complete_meta.tsv\", na=\"\")"
   ]
  },
  {
   "cell_type": "code",
   "execution_count": 22,
   "id": "7fe25fe2-c3b7-445b-adfb-ec050314102f",
   "metadata": {},
   "outputs": [
    {
     "name": "stdout",
     "output_type": "stream",
     "text": [
      "Rows: 10,553\n",
      "Columns: 21\n",
      "$ sample      \u001b[3m\u001b[90m<chr>\u001b[39m\u001b[23m \"AY_01\", \"AY_01\", \"AY_01\", \"AY_01\", \"AY_02\", \"AY_02\", \"AY_…\n",
      "$ species     \u001b[3m\u001b[90m<chr>\u001b[39m\u001b[23m NA, NA, NA, NA, NA, NA, NA, NA, NA, NA, NA, NA, NA, NA, NA…\n",
      "$ date        \u001b[3m\u001b[90m<date>\u001b[39m\u001b[23m NA, NA, NA, NA, NA, NA, NA, NA, NA, NA, NA, NA, NA, NA, N…\n",
      "$ latitude    \u001b[3m\u001b[90m<dbl>\u001b[39m\u001b[23m -36.1, -36.1, -36.1, -36.1, -36.1, -36.1, -36.1, -36.1, -3…\n",
      "$ longitude   \u001b[3m\u001b[90m<dbl>\u001b[39m\u001b[23m 146.8833, 146.8833, 146.8833, 146.8833, 146.8833, 146.8833…\n",
      "$ elevation   \u001b[3m\u001b[90m<dbl>\u001b[39m\u001b[23m 0, 0, 0, 0, 0, 0, 0, 0, 0, 0, 0, 0, 0, 0, 0, 0, 0, 0, 0, 0…\n",
      "$ datum       \u001b[3m\u001b[90m<chr>\u001b[39m\u001b[23m NA, NA, NA, NA, NA, NA, NA, NA, NA, NA, NA, NA, NA, NA, NA…\n",
      "$ location    \u001b[3m\u001b[90m<chr>\u001b[39m\u001b[23m \"Albury\", \"Albury\", \"Albury\", \"Albury\", \"Albury\", \"Albury\"…\n",
      "$ collectors  \u001b[3m\u001b[90m<chr>\u001b[39m\u001b[23m NA, NA, NA, NA, NA, NA, NA, NA, NA, NA, NA, NA, NA, NA, NA…\n",
      "$ population  \u001b[3m\u001b[90m<chr>\u001b[39m\u001b[23m NA, NA, NA, NA, NA, NA, NA, NA, NA, NA, NA, NA, NA, NA, NA…\n",
      "$ seed        \u001b[3m\u001b[90m<chr>\u001b[39m\u001b[23m NA, NA, NA, NA, NA, NA, NA, NA, NA, NA, NA, NA, NA, NA, NA…\n",
      "$ notes       \u001b[3m\u001b[90m<chr>\u001b[39m\u001b[23m NA, NA, NA, NA, NA, NA, NA, NA, NA, NA, NA, NA, NA, NA, NA…\n",
      "$ parsed_date \u001b[3m\u001b[90m<date>\u001b[39m\u001b[23m NA, NA, NA, NA, NA, NA, NA, NA, NA, NA, NA, NA, NA, NA, N…\n",
      "$ errors      \u001b[3m\u001b[90m<chr>\u001b[39m\u001b[23m \"no_species\", \"no_species\", \"no_species\", \"no_species\", \"n…\n",
      "$ meta_source \u001b[3m\u001b[90m<chr>\u001b[39m\u001b[23m \"RRG\", \"RRG\", \"RRG\", \"RRG\", \"RRG\", \"RRG\", \"RRG\", \"RRG\", \"R…\n",
      "$ n           \u001b[3m\u001b[90m<int>\u001b[39m\u001b[23m 1, 1, 1, 1, 1, 1, 1, 1, 1, 1, 1, 1, 1, 1, 1, 1, 1, 1, 1, 1…\n",
      "$ has_meta    \u001b[3m\u001b[90m<lgl>\u001b[39m\u001b[23m TRUE, TRUE, TRUE, TRUE, TRUE, TRUE, TRUE, TRUE, TRUE, TRUE…\n",
      "$ fq          \u001b[3m\u001b[90m<chr>\u001b[39m\u001b[23m \"rawdata/reads/2024_brf-euc-novaseq-x-flowcells/AY_01_S1_L…\n",
      "$ run         \u001b[3m\u001b[90m<chr>\u001b[39m\u001b[23m \"2024_brf-euc-novaseq-x-flowcells\", \"2024_brf-euc-novaseq-…\n",
      "$ fname       \u001b[3m\u001b[90m<chr>\u001b[39m\u001b[23m \"AY_01_S1_L001\", \"AY_01_S1_L001\", \"AY_01_S1_L002\", \"AY_01_…\n",
      "$ read        \u001b[3m\u001b[90m<chr>\u001b[39m\u001b[23m \"read1_uri\", \"read2_uri\", \"read1_uri\", \"read2_uri\", \"read1…\n"
     ]
    }
   ],
   "source": [
    "rl2s = complete_meta %>%\n",
    "    glimpse() %>%\n",
    "    transmute(\n",
    "        sample, project=meta_source, species, library=fname, run, read, fq\n",
    "    ) %>%\n",
    "    #dplyr::group_by(sample, project, species, library, run, read) %>%\n",
    "    #dplyr::mutate(library=case_when(\n",
    "    #    n()>1 ~ sprintf(\"%s_techrep%d\", library, 1:n()),\n",
    "    #    T ~ library,\n",
    "    #))%>%\n",
    "    pivot_wider(values_from=\"fq\", names_from=\"read\")  %>%\n",
    "    write_tsv(\"rl2s.tsv\", na=\"\")"
   ]
  },
  {
   "cell_type": "markdown",
   "id": "5ce2b234-9c7f-4cb3-b48b-7abe68e85e76",
   "metadata": {},
   "source": [
    "# samplesets"
   ]
  },
  {
   "cell_type": "code",
   "execution_count": 29,
   "id": "4b8a046a-0f7e-4d9c-bed1-ecc241e715e1",
   "metadata": {},
   "outputs": [],
   "source": [
    "rl2s %>%\n",
    "    filter(grepl(\"melliodora|sideroxylon\", species, perl=T))  %>%\n",
    "    pull(sample) %>%\n",
    "    unique() %>%\n",
    "    sort() %>%\n",
    "    writeLines(\"melsider.txt\")"
   ]
  },
  {
   "cell_type": "code",
   "execution_count": 23,
   "id": "0fec3e1f-7ce6-4a82-93dd-d0b9a85ff6aa",
   "metadata": {},
   "outputs": [
    {
     "name": "stderr",
     "output_type": "stream",
     "text": [
      "Warning message in file(con, \"r\"):\n",
      "“cannot open file 'samplesets/HBDecra.txt': No such file or directory”\n"
     ]
    },
    {
     "ename": "ERROR",
     "evalue": "Error in file(con, \"r\"): cannot open the connection\n",
     "output_type": "error",
     "traceback": [
      "Error in file(con, \"r\"): cannot open the connection\nTraceback:\n",
      "1. readLines(\"samplesets/HBDecra.txt\")",
      "2. file(con, \"r\")"
     ]
    }
   ],
   "source": [
    "hbdecra = readLines(\"samplesets/HBDecra.txt\") "
   ]
  },
  {
   "cell_type": "code",
   "execution_count": null,
   "id": "c5a63e5a-778a-4ea0-b3ef-67c2ce52b0d6",
   "metadata": {},
   "outputs": [],
   "source": [
    "hbdecra[(hbdecra%in%rl2s$sample)] %>% writeLines(\"samplesets/HBDecra_testing.txt\")"
   ]
  },
  {
   "cell_type": "markdown",
   "id": "003d5186-f00a-470a-a69b-348b966c0420",
   "metadata": {},
   "source": [
    "# mapping to fastq"
   ]
  },
  {
   "cell_type": "raw",
   "id": "028f74b6-c72f-4ace-860c-9daa51915e2e",
   "metadata": {},
   "source": [
    "fqs = readLines(xzfile(\"input/allfq.txt.xz\"))\n",
    "fqs = tibble(file=fqs) %>%\n",
    "    filter(\n",
    "        !grepl(\"/g/data/xe2/datasets/(NORMAN_WARTHMANN|ash_gap|iwyp60|uploads_public|gbs|dataupload)/\", file),\n",
    "    )\n",
    "#kview(fqs)"
   ]
  },
  {
   "cell_type": "raw",
   "id": "258a7b71-2a74-413b-bb7b-8c14fb4851f3",
   "metadata": {},
   "source": [
    "grp1 = fqs %>%\n",
    "    extract(file, into=c(\"seqproject\", \"lanedir\", \"library\", \"sid\", \"lane\", \"read\"), remove=F,\n",
    "            regex = \"/g/data/xe2/datasets/([^/]+)(.*/)([^/]+)_(S\\\\d+)_(L\\\\d+_)?(R?[12])?_?[^/]*\\\\.gz\") %>%\n",
    "    filter(!is.na(seqproject)) %>%\n",
    "    mutate(\n",
    "        read = case_match(read,\n",
    "                          \"\" ~ \"interleaved\",\n",
    "                          \"R1\" ~ \"read1\",\n",
    "                          \"R2\" ~ \"read2\",\n",
    "                          ),\n",
    "    )"
   ]
  },
  {
   "cell_type": "raw",
   "id": "a2dfded9-bd2b-4c45-ba33-d2ee6251dc5b",
   "metadata": {},
   "source": [
    "grp2 = fqs %>%\n",
    "    extract(file, into=c(\"seqproject\", \"lanedir\", \"library\",  \"lane\", \"read\"), remove=F, \n",
    "            regex = \"/g/data/xe2/datasets/(2021_S4_Bothwell)/([^/]+).+/([^/]+)_DKDL.+_(L1)_([12]).fq.gz\") %>%\n",
    "    filter(!is.na(seqproject)) %>%\n",
    "    mutate(\n",
    "        read = case_match(read,\n",
    "                          \"\" ~ \"interleaved\",\n",
    "                          \"1\" ~ \"read1\",\n",
    "                          \"2\" ~ \"read2\",\n",
    "                          ),\n",
    "    )"
   ]
  },
  {
   "cell_type": "raw",
   "id": "a5028054-72e5-4cb5-99bb-ed92d96935d5",
   "metadata": {},
   "source": [
    "grp3 = fqs %>%\n",
    "    extract(file, into=c(\"seqproject\", \"lanedir\", \"library\",  \"read\"), remove=F, \n",
    "            regex = \"/g/data/xe2/datasets/(rose-andrew)/rawdata/runs/([^/]+)/([^/]+)_(R[12]).fastq.gz\") %>%\n",
    "    filter(!is.na(seqproject)) %>%\n",
    "    mutate(\n",
    "        read = case_match(read,\n",
    "                          \"R1\" ~ \"read1\",\n",
    "                          \"R2\" ~ \"read2\",\n",
    "                          ),\n",
    "    )"
   ]
  },
  {
   "cell_type": "raw",
   "id": "d765641c-bbf9-4210-bf27-3ae646962564",
   "metadata": {},
   "source": [
    "grp4 = fqs %>%\n",
    "    extract(file, into=c(\"seqproject\", \"library\"), remove=F, \n",
    "            regex = \"/g/data/xe2/datasets/(BGI-eucseq)/pooled/([^/]+).fastq.gz\") %>%\n",
    "    filter(!is.na(seqproject)) %>%\n",
    "    mutate(\n",
    "        read = \"interleaved\",\n",
    "    )"
   ]
  },
  {
   "cell_type": "raw",
   "id": "2d1a8f48-50aa-440e-a195-f9a9d92d4892",
   "metadata": {},
   "source": [
    "fqs =  bind_rows(grp1, grp2, grp3, grp4) %>% \n",
    "    mutate(lanedir=paste0(gsub(\"/\", \"\", lanedir), \"_\", sub(\"_\", \"\", lane)) %>% gsub(\"^NA_|_NA$\", \"\", .))\n",
    "#write_tsv(fqs, \"fastq_files.tsv\", na=\"\")\n",
    "fqw = fqs %>%\n",
    "    pivot_wider(names_from=\"read\", values_from=\"file\") %>%\n",
    "    select(-sid, -lane)"
   ]
  },
  {
   "cell_type": "raw",
   "id": "2e650986-655a-412d-8457-06a42a3d9259",
   "metadata": {},
   "source": [
    "all_wide = all_eucs %>%\n",
    "    select(-run, -include, -errors) %>%\n",
    "    distinct() %>% \n",
    "    full_join(., fqw, by=\"library\") %>%\n",
    "    filter(\n",
    "        !(lanedir == \"2019-09-24_ahrens-rymer-marri-nextseq-test-flowcell_\" & is.na(read1) & is.na(read2) & !is.na(interleaved)),  # these correspond to merged files\n",
    "    ) %>%\n",
    "    mutate(\n",
    "        project=case_when(\n",
    "            !is.na(project) ~ project,\n",
    "            grepl(\"^CCA\", sample) ~ \"CCA\",\n",
    "            grepl(\"^JJB|DDA\", sample) ~ \"NEng\",\n",
    "        )\n",
    "    )"
   ]
  },
  {
   "cell_type": "raw",
   "id": "2c1c6004-ac09-4fa6-b906-db09bcee9f5a",
   "metadata": {},
   "source": [
    "write_tsv(all_wide, \"alleuc_all_metadata.tsv\", na=\"\")"
   ]
  },
  {
   "cell_type": "raw",
   "id": "fae2d570-9114-4420-8769-e3dc0399855a",
   "metadata": {},
   "source": [
    "all_wide %>%\n",
    "    select(library, sample, project, seq_date, plate, well, i7, i5, i7_seq, i5_seq, seqproject, lanedir, read1, read2, interleaved) %>%\n",
    "    unique() %>%\n",
    "    write_tsv(\"alleuc_fastq_to_sample.tsv\", na=\"\")"
   ]
  },
  {
   "cell_type": "raw",
   "id": "32159cd4-41ba-48d2-8569-d773b93c6fd4",
   "metadata": {},
   "source": [
    "all_wide %>%\n",
    "    select(sample, project, species, date, latitude, longitude, elevation, datum, location, collectors, population, seed, notes, percent_dieback, seed_amount) %>%\n",
    "    unique() %>%\n",
    "    write_tsv(\"alleuc_sample_metadata.tsv\", na=\"\")"
   ]
  },
  {
   "cell_type": "code",
   "execution_count": null,
   "id": "9de36024-0b33-4740-ae6b-8e7205388df2",
   "metadata": {},
   "outputs": [],
   "source": []
  }
 ],
 "metadata": {
  "kernelspec": {
   "display_name": "R",
   "language": "R",
   "name": "ir"
  },
  "language_info": {
   "codemirror_mode": "r",
   "file_extension": ".r",
   "mimetype": "text/x-r-source",
   "name": "R",
   "pygments_lexer": "r",
   "version": "4.3.2"
  }
 },
 "nbformat": 4,
 "nbformat_minor": 5
}
